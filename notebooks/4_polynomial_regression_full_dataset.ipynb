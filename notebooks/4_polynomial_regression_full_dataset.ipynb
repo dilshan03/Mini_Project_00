{
 "cells": [
  {
   "cell_type": "code",
   "execution_count": 22,
   "id": "5f547393",
   "metadata": {},
   "outputs": [],
   "source": [
    "import pandas as pd\n",
    "import matplotlib.pyplot as plt\n",
    "import numpy as np"
   ]
  },
  {
   "cell_type": "code",
   "execution_count": 23,
   "id": "bbe59514",
   "metadata": {},
   "outputs": [],
   "source": [
    "df = pd.read_csv('C:/Users/dilshan/Documents/AI_ML_Course(zuu)/week03/zuu_crew_scores.csv')"
   ]
  },
  {
   "cell_type": "code",
   "execution_count": 24,
   "id": "99846039",
   "metadata": {},
   "outputs": [],
   "source": [
    "# Drop non-numeric columns (text not usable for regression)\n",
    "X = df.drop(columns=[\"MemberName\", \"CourseName\", \"CapstoneScore\"])\n",
    "y = df[\"CapstoneScore\"].values.reshape(-1, 1)   "
   ]
  },
  {
   "cell_type": "code",
   "execution_count": 33,
   "id": "3ed0d1e3",
   "metadata": {},
   "outputs": [
    {
     "name": "stdout",
     "output_type": "stream",
     "text": [
      "(150, 7)\n"
     ]
    }
   ],
   "source": [
    "# Feature scaling (standardization)\n",
    "\"\"\"Custom Standard Scaler for feature standardization.\n",
    "    \n",
    "    Standardizes features by removing the mean and scaling to unit variance.\n",
    "    \"\"\"\n",
    "\n",
    "\n",
    "def standard_scale(X):\n",
    "    mean = np.mean(X, axis=0)\n",
    "    std = np.std(X, axis=0)\n",
    "    return (X - mean) / std\n",
    "\n",
    "X_scaled = standard_scale(X)\n",
    "if isinstance(X_scaled, pd.DataFrame):\n",
    "    X_scaled = X_scaled.values\n",
    "print(X_scaled.shape)  # (150, 7) after encoding"
   ]
  },
  {
   "cell_type": "code",
   "execution_count": 26,
   "id": "dcfd826f",
   "metadata": {},
   "outputs": [],
   "source": [
    "from itertools import combinations_with_replacement\n",
    "\n",
    "def polynomial_features(X, degree):\n",
    "    n_samples, n_features = X.shape\n",
    "    combos = list(combinations_with_replacement(range(n_features), degree))\n",
    "    new_features = len(combos)  # Number of terms\n",
    "    X_poly = np.empty((n_samples, new_features))\n",
    "    for i, combo in enumerate(combos):\n",
    "        X_poly[:, i] = np.prod(X[:, combo], axis=1)\n",
    "    return X_poly\n",
    "\n",
    "# For full poly (degrees 0 to d), stack for each degree\n",
    "def full_polynomial_features(X, degree):\n",
    "    X_poly = np.ones((X.shape[0], 1))  # Bias term (degree 0)\n",
    "    for d in range(1, degree + 1):\n",
    "        X_poly = np.hstack((X_poly, polynomial_features(X, d)))\n",
    "    return X_poly"
   ]
  },
  {
   "cell_type": "code",
   "execution_count": 27,
   "id": "4e8da2c8",
   "metadata": {},
   "outputs": [],
   "source": [
    "def linear_regression_fit(X, y):\n",
    "    # Add bias if not included\n",
    "    if np.all(X[:, 0] != 1):\n",
    "        X = np.hstack((np.ones((X.shape[0], 1)), X))\n",
    "    coef, _, _, _ = np.linalg.lstsq(X, y, rcond=None)\n",
    "    return coef\n",
    "\n",
    "def linear_regression_predict(X, coef):\n",
    "    if np.all(X[:, 0] != 1):\n",
    "        X = np.hstack((np.ones((X.shape[0], 1)), X))\n",
    "    return X @ coef"
   ]
  },
  {
   "cell_type": "code",
   "execution_count": 28,
   "id": "b2e7080c",
   "metadata": {},
   "outputs": [],
   "source": [
    "def r2_score(y_true, y_pred):\n",
    "    ss_res = np.sum((y_true - y_pred) ** 2)\n",
    "    ss_tot = np.sum((y_true - np.mean(y_true)) ** 2)\n",
    "    return 1 - (ss_res / ss_tot)\n",
    "\n",
    "def mse(y_true, y_pred):\n",
    "    return np.mean((y_true - y_pred) ** 2)\n",
    "\n",
    "def mae(y_true, y_pred):\n",
    "    return np.mean(np.abs(y_true - y_pred))"
   ]
  },
  {
   "cell_type": "code",
   "execution_count": 34,
   "id": "8d6237b0",
   "metadata": {},
   "outputs": [],
   "source": [
    "def k_fold_cv(X, y, degree, k=5, lr: float = 0.01, epochs: int = 1000):\n",
    "    n = len(y)\n",
    "    fold_size = n // k\n",
    "    indices = np.arange(n)\n",
    "    np.random.shuffle(indices)  # Random shuffle for folds\n",
    "    \n",
    "    r2_scores, mse_scores, mae_scores = [], [], []\n",
    "    \n",
    "    for i in range(k):\n",
    "        val_idx = indices[i * fold_size: (i + 1) * fold_size]\n",
    "        train_idx = np.concatenate((indices[:i * fold_size], indices[(i + 1) * fold_size:]))\n",
    "        \n",
    "        X_train, X_val = X[train_idx], X[val_idx]\n",
    "        y_train, y_val = y[train_idx], y[val_idx]\n",
    "        \n",
    "        # Generate poly features\n",
    "        X_train_poly = full_polynomial_features(X_train, degree)\n",
    "        X_val_poly = full_polynomial_features(X_val, degree)\n",
    "        \n",
    "        # Fit\n",
    "        coef = linear_regression_fit(X_train_poly, y_train)\n",
    "        \n",
    "        # Predict\n",
    "        y_pred = linear_regression_predict(X_val_poly, coef)\n",
    "        \n",
    "        # Metrics\n",
    "        r2_scores.append(r2_score(y_val, y_pred))\n",
    "        mse_scores.append(mse(y_val, y_pred))\n",
    "        mae_scores.append(mae(y_val, y_pred))\n",
    "    \n",
    "    return {\n",
    "        'mean_r2': np.mean(r2_scores),\n",
    "        'mean_mse': np.mean(mse_scores),\n",
    "        'mean_mae': np.mean(mae_scores),\n",
    "        'std_r2': np.std(r2_scores)\n",
    "    }"
   ]
  },
  {
   "cell_type": "code",
   "execution_count": 31,
   "id": "54540314",
   "metadata": {},
   "outputs": [
    {
     "name": "stdout",
     "output_type": "stream",
     "text": [
      "Evaluating degree 1...\n",
      "Evaluating degree 2...\n",
      "Evaluating degree 3...\n",
      "     mean_r2     mean_mse   mean_mae     std_r2\n",
      "1   0.331170   394.564065  16.335672   0.135926\n",
      "2   0.224563   461.007489  16.932742   0.160603\n",
      "3 -15.138453  9270.001004  69.245927  10.592104\n"
     ]
    }
   ],
   "source": [
    "degrees = [1, 2, 3]\n",
    "results = {}\n",
    "\n",
    "for deg in degrees:\n",
    "    print(f\"Evaluating degree {deg}...\")\n",
    "    metrics = k_fold_cv(X_scaled, y, deg)\n",
    "    results[deg] = metrics\n",
    "\n",
    "# Display results in a table\n",
    "results_df = pd.DataFrame(results).T\n",
    "print(results_df)"
   ]
  },
  {
   "cell_type": "code",
   "execution_count": 32,
   "id": "96ed51ba",
   "metadata": {},
   "outputs": [
    {
     "data": {
      "image/png": "[encoded data removed]",
      "text/plain": [
       "<Figure size 640x480 with 1 Axes>"
      ]
     },
     "metadata": {},
     "output_type": "display_data"
    }
   ],
   "source": [
    "import matplotlib.pyplot as plt\n",
    "\n",
    "# Example: Bar plot for R²\n",
    "plt.bar(results_df.index, results_df['mean_r2'])\n",
    "plt.xlabel('Polynomial Degree')\n",
    "plt.ylabel('Mean R² Score')\n",
    "plt.title('Degree Comparison')\n",
    "plt.show()"
   ]
  }
 ],
 "metadata": {
  "kernelspec": {
   "display_name": "base",
   "language": "python",
   "name": "python3"
  },
  "language_info": {
   "codemirror_mode": {
    "name": "ipython",
    "version": 3
   },
   "file_extension": ".py",
   "mimetype": "text/x-python",
   "name": "python",
   "nbconvert_exporter": "python",
   "pygments_lexer": "ipython3",
   "version": "3.13.5"
  }
 },
 "nbformat": 4,
 "nbformat_minor": 5
}
