{
 "cells": [
  {
   "cell_type": "code",
   "execution_count": 21,
   "id": "c4587ce2",
   "metadata": {},
   "outputs": [],
   "source": [
    "import numpy as np\n",
    "import pandas as pd"
   ]
  },
  {
   "cell_type": "code",
   "execution_count": 22,
   "id": "b9b3eabe",
   "metadata": {},
   "outputs": [],
   "source": [
    "df = pd.read_csv('C:/Users/dilshan/Documents/AI_ML_Course(zuu)/week03/zuu_crew_scores.csv')"
   ]
  },
  {
   "cell_type": "code",
   "execution_count": 23,
   "id": "4acfdf46",
   "metadata": {},
   "outputs": [],
   "source": [
    "def load_and_prepare_data():\n",
    "    features = [\n",
    "        'EducationLevel', 'Attendance', 'TotalHours', 'AssignmentsCompleted',\n",
    "        'HackathonParticipation', 'GitHubScore', 'PeerReviewScore'\n",
    "    ]\n",
    "    X = df[features].values\n",
    "    y = (df['CapstoneScore'] >= 75).astype(int).values\n",
    "    X = (X - X.mean(axis=0)) / X.std(axis=0)\n",
    "    X = np.hstack([np.ones((X.shape[0], 1)), X])\n",
    "    return X, y"
   ]
  },
  {
   "cell_type": "code",
   "execution_count": 24,
   "id": "3ffe4dcf",
   "metadata": {},
   "outputs": [],
   "source": [
    "def sigmoid(z):\n",
    "    return 1 / (1 + np.exp(-np.clip(z, -500, 500)))"
   ]
  },
  {
   "cell_type": "code",
   "execution_count": 25,
   "id": "0bd2e553",
   "metadata": {},
   "outputs": [],
   "source": [
    "def compute_logistic_cost(X, y, theta):\n",
    "    m = len(y)\n",
    "    h = sigmoid(np.dot(X, theta))\n",
    "    # Adding small epsilon to avoid log(0)\n",
    "    epsilon = 1e-15\n",
    "    cost = -(1/m) * np.sum(y * np.log(h + epsilon) + (1-y) * np.log(1-h + epsilon))\n",
    "    return cost"
   ]
  },
  {
   "cell_type": "code",
   "execution_count": 26,
   "id": "1861fe96",
   "metadata": {},
   "outputs": [],
   "source": [
    "def compute_logistic_gradients(X, y, theta):\n",
    "    m = len(y)\n",
    "    h = sigmoid(np.dot(X, theta))\n",
    "    gradients = (1/m) * np.dot(X.T, (h - y))\n",
    "    return gradients"
   ]
  },
  {
   "cell_type": "code",
   "execution_count": 27,
   "id": "1093e415",
   "metadata": {},
   "outputs": [],
   "source": [
    "def logistic_gradient_descent(X, y, learning_rate=0.01, num_iterations=1000):\n",
    "    m, n = X.shape\n",
    "    theta = np.zeros(n)\n",
    "    costs = []\n",
    "    \n",
    "    for _ in range(num_iterations):\n",
    "        gradients = compute_logistic_gradients(X, y, theta)\n",
    "        theta -= learning_rate * gradients\n",
    "        cost = compute_logistic_cost(X, y, theta)\n",
    "        costs.append(cost)\n",
    "    \n",
    "    return theta, costs"
   ]
  },
  {
   "cell_type": "code",
   "execution_count": 28,
   "id": "ed00fda5",
   "metadata": {},
   "outputs": [],
   "source": [
    "def predict_proba(X, theta):\n",
    "    return sigmoid(np.dot(X, theta))\n",
    "\n",
    "# Binary class predictions\n",
    "def predict_class(X, theta, threshold=0.5):\n",
    "    return (predict_proba(X, theta) >= threshold).astype(int)"
   ]
  },
  {
   "cell_type": "code",
   "execution_count": 29,
   "id": "b5fc3cf7",
   "metadata": {},
   "outputs": [
    {
     "name": "stdout",
     "output_type": "stream",
     "text": [
      "Model Accuracy: 0.7333\n",
      "Final Cost: 0.4753\n"
     ]
    }
   ],
   "source": [
    "def main():\n",
    "    # Loading data\n",
    "    X, y = load_and_prepare_data()\n",
    "    \n",
    "    # Training the model\n",
    "    theta, costs = logistic_gradient_descent(X, y, learning_rate=0.1, num_iterations=1000)\n",
    "    \n",
    "    # Making predictions\n",
    "    y_pred = predict_class(X, theta)\n",
    "    \n",
    "    # Calculating accuracy\n",
    "    accuracy = np.mean(y_pred == y)\n",
    "    print(f'Model Accuracy: {accuracy:.4f}')\n",
    "    \n",
    "    # Printing final cost\n",
    "    print(f'Final Cost: {costs[-1]:.4f}')\n",
    "    \n",
    "    return theta, costs\n",
    "\n",
    "if __name__ == '__main__':\n",
    "    theta, costs = main()"
   ]
  }
 ],
 "metadata": {
  "kernelspec": {
   "display_name": "foml",
   "language": "python",
   "name": "python3"
  },
  "language_info": {
   "codemirror_mode": {
    "name": "ipython",
    "version": 3
   },
   "file_extension": ".py",
   "mimetype": "text/x-python",
   "name": "python",
   "nbconvert_exporter": "python",
   "pygments_lexer": "ipython3",
   "version": "3.11.13"
  }
 },
 "nbformat": 4,
 "nbformat_minor": 5
}
